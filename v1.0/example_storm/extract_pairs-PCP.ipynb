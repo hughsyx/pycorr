{
 "cells": [
  {
   "cell_type": "markdown",
   "id": "b84f90a9-95c8-41c0-a75f-b4fa4802e69b",
   "metadata": {},
   "source": [
    "# Check dataset"
   ]
  },
  {
   "cell_type": "code",
   "execution_count": 1,
   "id": "daac7455-d6bd-4350-9cc9-cb4b7fe83c61",
   "metadata": {},
   "outputs": [],
   "source": [
    "import sys,os,glob,time,copy,warnings,cProfile,shutil,matplotlib\n",
    "from IPython import display\n",
    "import h5py as h5\n",
    "import numpy as np\n",
    "import scipy.fftpack\n",
    "import scipy.signal\n",
    "import scipy.io as io\n",
    "import skimage.restoration as deconv\n",
    "from math import cos, sin, radians\n",
    "import matplotlib\n",
    "import matplotlib.pyplot as plt\n",
    "import matplotlib.pylab as pl\n",
    "from matplotlib.colors import LinearSegmentedColormap\n",
    "from matplotlib.transforms import offset_copy\n",
    "import cartopy.crs as ccrs\n",
    "from cartopy.io.img_tiles import Stamen, OSM\n",
    "import cartopy.feature as cfeature\n",
    "from obspy.geodetics.base import gps2dist_azimuth\n",
    "from obspy.geodetics import locations2degrees\n",
    "from obspy.taup import TauPyModel\n",
    "from mpl_toolkits.axes_grid1 import make_axes_locatable, axes_size\n",
    "matplotlib.rcParams['pdf.fonttype'] = 42\n",
    "\n",
    "\n",
    "from pyproj import Geod\n",
    "\n",
    "import m_pycorr.mods.dd as dd\n",
    "import m_pycorr.mods.lang as lang\n",
    "\n",
    "import m_manage_data as m_mod\n",
    "\n",
    "import ipdb\n",
    "\n",
    "%matplotlib widget"
   ]
  },
  {
   "cell_type": "code",
   "execution_count": 2,
   "id": "16527c90-d1e0-4ea0-9a2b-967bb60931b0",
   "metadata": {},
   "outputs": [],
   "source": [
    "path          = \"data_4.0hz/events/\"\n",
    "list_of_files = glob.glob(path + '/*/*.h5')\n",
    "\n",
    "lat    = []\n",
    "lon    = []\n",
    "id_sta = []\n",
    "ch     = []\n",
    "\n",
    "for i_file in list_of_files:\n",
    "#i_file = 'data_4.0hz/events/glob_03/2014-12-09T12-00-00.000000Z_mww_6.0.h5'\n",
    "    h5f   = h5.File(i_file,'r')\n",
    "    dic   = m_mod.recursively_load_dic_from_h5(h5f, path='/_metadata/sta/')\n",
    "    dic_ev= m_mod.recursively_load_dic_from_h5(h5f, path='/_metadata/ev/')\n",
    "\n",
    "    for net_lvl in dic.keys():\n",
    "        for sta_lvl in dic[net_lvl]:\n",
    "            lat.append(dic[net_lvl][sta_lvl]['lat'][()])\n",
    "            lon.append(dic[net_lvl][sta_lvl]['lon'][()])\n",
    "            id_sta.append(net_lvl + '/' + sta_lvl)\n",
    "            isN =  str(int('/' + net_lvl + '/' + sta_lvl + '/N' in h5f))\n",
    "            isE =  str(int('/' + net_lvl + '/' + sta_lvl + '/E' in h5f))   \n",
    "            isZ =  str(int('/' + net_lvl + '/' + sta_lvl + '/Z' in h5f)) \n",
    "            ch.append( isZ + isN + isE )\n",
    "    \n",
    "    h5f.close()\n",
    "    #dd.dd(dic)"
   ]
  },
  {
   "cell_type": "code",
   "execution_count": 5,
   "id": "0f93ad1b-a0ad-45cb-b462-7d0b99bedc65",
   "metadata": {},
   "outputs": [
    {
     "data": {
      "application/vnd.jupyter.widget-view+json": {
       "model_id": "d6156b7f1d5f489099754881f6f0ea42",
       "version_major": 2,
       "version_minor": 0
      },
      "text/plain": [
       "Canvas(toolbar=Toolbar(toolitems=[('Home', 'Reset original view', 'home', 'home'), ('Back', 'Back to previous …"
      ]
     },
     "metadata": {},
     "output_type": "display_data"
    },
    {
     "data": {
      "text/plain": [
       "<matplotlib.collections.PathCollection at 0x13f73af10>"
      ]
     },
     "execution_count": 5,
     "metadata": {},
     "output_type": "execute_result"
    }
   ],
   "source": [
    "plt.close('all')\n",
    "m_mod.mmap(111,lon,lat,ch=ch,xylabel=True,res=2)\n",
    "plt.scatter(dic_ev['lon'], dic_ev['lat'], marker='*', c='g', s=500,transform=ccrs.PlateCarree(),cmap='plasma_r',alpha=0.5)"
   ]
  },
  {
   "cell_type": "code",
   "execution_count": 6,
   "id": "47d1d935-4348-4b55-8e4a-ab386224bf35",
   "metadata": {},
   "outputs": [
    {
     "data": {
      "application/vnd.jupyter.widget-view+json": {
       "model_id": "0598e2d67cd64627a2b3277b5b8b6faa",
       "version_major": 2,
       "version_minor": 0
      },
      "text/plain": [
       "Canvas(toolbar=Toolbar(toolitems=[('Home', 'Reset original view', 'home', 'home'), ('Back', 'Back to previous …"
      ]
     },
     "metadata": {},
     "output_type": "display_data"
    }
   ],
   "source": [
    "plt.close('all')\n",
    "\n",
    "model = TauPyModel(model=\"PREM\")\n",
    "ray_p_pcp=[]\n",
    "vect_epi_dist =  np.linspace(0,90,181)\n",
    "for dist in vect_epi_dist:\n",
    "    #print(dist)\n",
    "    arrivals = model.get_travel_times(source_depth_in_km=0,\n",
    "                                  distance_in_degree=dist,\n",
    "                                  phase_list=[\"PcP\"])\n",
    "    arr = arrivals[0]\n",
    "    ray_p_pcp.append(arr.ray_param)\n",
    "    \n",
    "    \n",
    "ray_p_pcp = np.array(ray_p_pcp)\n",
    "plt.plot(vect_epi_dist,np.array(ray_p_pcp))\n",
    "\n",
    "vec_dist  = np.zeros([len(id_sta),1])\n",
    "vec_az    = np.zeros([len(id_sta),1])\n",
    "vec_baz   = np.zeros([len(id_sta),1])\n",
    "\n",
    "for counterA, staA in enumerate(id_sta):\n",
    "    (vec_dist[counterA],vec_az[counterA],vec_baz[counterA]) = gps2dist_azimuth(dic_ev['lat'], dic_ev['lon'], lat[counterA], lon[counterA])\n"
   ]
  },
  {
   "cell_type": "code",
   "execution_count": 7,
   "id": "024ffa62-2ccc-4614-96cb-ce3c23e0bace",
   "metadata": {},
   "outputs": [
    {
     "data": {
      "application/vnd.jupyter.widget-view+json": {
       "model_id": "4e5d208cfd7d49efb4a7eb2260d46c03",
       "version_major": 2,
       "version_minor": 0
      },
      "text/plain": [
       "Canvas(toolbar=Toolbar(toolitems=[('Home', 'Reset original view', 'home', 'home'), ('Back', 'Back to previous …"
      ]
     },
     "metadata": {},
     "output_type": "display_data"
    },
    {
     "data": {
      "text/plain": [
       "<matplotlib.collections.PathCollection at 0x140362af0>"
      ]
     },
     "execution_count": 7,
     "metadata": {},
     "output_type": "execute_result"
    }
   ],
   "source": [
    "plt.close('all')\n",
    "\n",
    "geoid = Geod(ellps=\"WGS84\")  \n",
    "\n",
    "ivec1 = vec_dist/1000/111.91 > 130\n",
    "ivec2 = vec_dist/1000/111.91 < 180\n",
    "valid_idxA = np.where(ivec1 * ivec2)[0]\n",
    "\n",
    "\n",
    "#m_mod.mmap(111,np.array(lon)[valid_idxA],np.array(lat)[valid_idxA],np.array(ch)[valid_idxA].tolist(),xylabel=True,res=2)\n",
    "vect_dist_pcp = []\n",
    "for idist in vec_dist[valid_idxA]:\n",
    "    ray_to_find = model.get_travel_times(source_depth_in_km=0,\n",
    "                                  distance_in_degree=idist/1000/111.91,\n",
    "                                  phase_list=[\"PKIKP\",\"PKP\"])[0].ray_param\n",
    "    vect_dist_pcp.append(vect_epi_dist[np.argmin(np.abs(ray_p_pcp-ray_to_find))])\n",
    "\n",
    "term_lon,term_lat,term_baz = geoid.fwd(np.array(lon)[valid_idxA],np.array(lat)[valid_idxA], vec_baz[valid_idxA]+180.,np.array(vect_dist_pcp)*1000*111.91) \n",
    "\n",
    "#plt.plot(vect_dist_pcp)\n",
    "\n",
    "m_mod.mmap(111,np.array(lon)[valid_idxA],np.array(lat)[valid_idxA],ch=np.array(ch)[valid_idxA].tolist(),xylabel=True,res=2)\n",
    "plt.scatter(term_lon,term_lat, marker='o', c='g', s=20,transform=ccrs.PlateCarree(),cmap='plasma_r',alpha=0.5)"
   ]
  },
  {
   "cell_type": "code",
   "execution_count": 8,
   "id": "15120b60-63a9-48a1-a38c-a938b86312ec",
   "metadata": {},
   "outputs": [
    {
     "data": {
      "application/vnd.jupyter.widget-view+json": {
       "model_id": "879a7d8c2ecb4c45a060811abbac3873",
       "version_major": 2,
       "version_minor": 0
      },
      "text/plain": [
       "Canvas(toolbar=Toolbar(toolitems=[('Home', 'Reset original view', 'home', 'home'), ('Back', 'Back to previous …"
      ]
     },
     "metadata": {},
     "output_type": "display_data"
    },
    {
     "data": {
      "text/plain": [
       "<matplotlib.image.AxesImage at 0x14096c640>"
      ]
     },
     "execution_count": 8,
     "metadata": {},
     "output_type": "execute_result"
    }
   ],
   "source": [
    "plt.close('all')\n",
    "\n",
    "mat_dist   = np.zeros([len(id_sta),len(valid_idxA)])\n",
    "bool_dist  = np.zeros([len(id_sta),len(valid_idxA)])\n",
    "\n",
    "for counterA, staA in enumerate(np.array(id_sta)[valid_idxA].tolist()):\n",
    "    #ipdb.set_trace()\n",
    "    az,baz,mat_dist[:,counterA] = geoid.inv(np.tile(term_lon[counterA],np.array(lon).size), np.tile(term_lat[counterA],np.array(lon).size), lon , lat)\n",
    "    bool_dist[:,counterA] = (mat_dist[:,counterA]/1000/111.91 < 0.25 * vect_dist_pcp[counterA])\n",
    "    \n",
    "plt.imshow(bool_dist,aspect='auto')"
   ]
  },
  {
   "cell_type": "code",
   "execution_count": 9,
   "id": "38e31481-31d9-4eed-8dee-623883c2bc80",
   "metadata": {},
   "outputs": [
    {
     "data": {
      "application/vnd.jupyter.widget-view+json": {
       "model_id": "6266ee345cc64ee1b5a65002c76e9d4b",
       "version_major": 2,
       "version_minor": 0
      },
      "text/plain": [
       "Canvas(toolbar=Toolbar(toolitems=[('Home', 'Reset original view', 'home', 'home'), ('Back', 'Back to previous …"
      ]
     },
     "metadata": {},
     "output_type": "display_data"
    }
   ],
   "source": [
    "plt.close('all')\n",
    "\n",
    "valid_idxB = np.where(np.sum(bool_dist,1)>0)[0]\n",
    "valid_idxA_c = valid_idxA[np.where(np.sum(bool_dist,0)>0)[0]]\n",
    "\n",
    "\n",
    "m_mod.mmap(111,np.array(lon)[valid_idxA_c],np.array(lat)[valid_idxA_c],ch=None,xylabel=True,res=2,proj='azi',ev=[147,-63])\n",
    "\n",
    "n = 180\n",
    "col = pl.cm.inferno(np.linspace(0,1,n))\n",
    "\n",
    "xfil = open('list_xcorr_PcP_TEST.txt', 'w')\n",
    "\n",
    "dist_pair = []\n",
    "for idx, counterA in enumerate(valid_idxA.tolist()):\n",
    "    for counterB in np.where(bool_dist[:,idx])[0]:\n",
    "        xfil.write(id_sta[counterA].replace('/','.') + '_' + id_sta[counterB].replace('/','.') + '\\n')\n",
    "        dist_pair.append(geoid.line_length([lon[counterA],lon[counterB]], [lat[counterA], lat[counterB]])/1000/111.91)\n",
    "        plt.plot([lon[counterA],lon[counterB]], [lat[counterA], lat[counterB]], color=col[int(dist_pair[-1])], linewidth=0.5, alpha=0.25, transform=ccrs.Geodetic())\n",
    "\n",
    "plt.scatter(dic_ev['lon'], dic_ev['lat'], marker='*', c='g', s=500,transform=ccrs.PlateCarree(),cmap='plasma_r',alpha=0.5)\n",
    "plt.scatter(np.array(lon)[valid_idxB],np.array(lat)[valid_idxB], marker='o', c='darkviolet', s=20,transform=ccrs.PlateCarree(),cmap='plasma_r',alpha=0.5)\n",
    "\n",
    "xfil.close()"
   ]
  },
  {
   "cell_type": "code",
   "execution_count": 16,
   "id": "06fc421a-03d2-4a7a-ba5c-ea77f665fc99",
   "metadata": {},
   "outputs": [],
   "source": [
    "plt.savefig('map_pcp_paths.pdf')"
   ]
  },
  {
   "cell_type": "code",
   "execution_count": 10,
   "id": "20afc805-4290-499d-b432-ec3095bc335a",
   "metadata": {},
   "outputs": [
    {
     "data": {
      "application/vnd.jupyter.widget-view+json": {
       "model_id": "4e917a4f810c45ccb8fc40cfc2164c33",
       "version_major": 2,
       "version_minor": 0
      },
      "text/plain": [
       "Canvas(toolbar=Toolbar(toolitems=[('Home', 'Reset original view', 'home', 'home'), ('Back', 'Back to previous …"
      ]
     },
     "metadata": {},
     "output_type": "display_data"
    },
    {
     "data": {
      "text/plain": [
       "(array([  3.,   3.,   1.,   2.,   4.,   3.,   4.,   4.,   7.,   6.,   6.,\n",
       "          4.,   3.,   8.,  10.,   3.,   2.,  10.,  11.,  18.,  15.,  22.,\n",
       "         29.,  21.,  23.,  14.,  15.,  30.,  28.,  23.,  16.,  16.,  11.,\n",
       "         18.,  16.,  12.,  17.,  17.,  22.,  15.,  18.,  13.,  18.,  17.,\n",
       "         29.,  12.,  18.,  13.,  10.,   7.,  25.,   6.,   9.,   7.,   8.,\n",
       "          7.,   9.,  14.,   4.,   0.,   1.,   0.,   0.,   0.,   0.,   0.,\n",
       "          0.,   0.,   0.,   0.,   0.,   0.,   0.,   0.,   0.,   0.,   0.,\n",
       "          0.,   0.,   0.,   0.,   0.,   0.,   0.,   0.,   0.,   0.,   0.,\n",
       "          0.,   0.,   0.,   0.,   0.,   0.,   0.,   0.,   0.,   0.,   0.,\n",
       "          0.,   0.,   0.,   0.,   0.,   0.,   0.,   0.,   0.,   0.,   0.,\n",
       "          0.,   0.,   0.,   0.,   0.,   0.,   0.,   0.,   0.,   0.,   0.,\n",
       "          0.,   0.,   0.,   0.,   0.,   0.,   0.,   0.,   0.,   1.,   0.,\n",
       "          0.,   0.,   0.,   0.,   0.,   2.,   4.,   7.,  11.,  14.,  16.,\n",
       "         20.,  19.,  19.,  17.,  13.,  12.,   4.,   0.,   1.,   6.,   0.,\n",
       "          3.,  10.,   3.,   4.,  17.,  11.,  22.,  27.,  24.,   4.,   3.,\n",
       "         12.,   1.,   5.,   8.,   5.,  12.,  18.,  36.,  26.,   7.,   7.,\n",
       "          4.,   1.,   2.,   1.]),\n",
       " array([  9.93482438,  10.17753109,  10.4202378 ,  10.66294451,\n",
       "         10.90565122,  11.14835793,  11.39106465,  11.63377136,\n",
       "         11.87647807,  12.11918478,  12.36189149,  12.6045982 ,\n",
       "         12.84730492,  13.09001163,  13.33271834,  13.57542505,\n",
       "         13.81813176,  14.06083847,  14.30354518,  14.5462519 ,\n",
       "         14.78895861,  15.03166532,  15.27437203,  15.51707874,\n",
       "         15.75978545,  16.00249217,  16.24519888,  16.48790559,\n",
       "         16.7306123 ,  16.97331901,  17.21602572,  17.45873243,\n",
       "         17.70143915,  17.94414586,  18.18685257,  18.42955928,\n",
       "         18.67226599,  18.9149727 ,  19.15767942,  19.40038613,\n",
       "         19.64309284,  19.88579955,  20.12850626,  20.37121297,\n",
       "         20.61391968,  20.8566264 ,  21.09933311,  21.34203982,\n",
       "         21.58474653,  21.82745324,  22.07015995,  22.31286667,\n",
       "         22.55557338,  22.79828009,  23.0409868 ,  23.28369351,\n",
       "         23.52640022,  23.76910693,  24.01181365,  24.25452036,\n",
       "         24.49722707,  24.73993378,  24.98264049,  25.2253472 ,\n",
       "         25.46805392,  25.71076063,  25.95346734,  26.19617405,\n",
       "         26.43888076,  26.68158747,  26.92429418,  27.1670009 ,\n",
       "         27.40970761,  27.65241432,  27.89512103,  28.13782774,\n",
       "         28.38053445,  28.62324117,  28.86594788,  29.10865459,\n",
       "         29.3513613 ,  29.59406801,  29.83677472,  30.07948143,\n",
       "         30.32218815,  30.56489486,  30.80760157,  31.05030828,\n",
       "         31.29301499,  31.5357217 ,  31.77842842,  32.02113513,\n",
       "         32.26384184,  32.50654855,  32.74925526,  32.99196197,\n",
       "         33.23466868,  33.4773754 ,  33.72008211,  33.96278882,\n",
       "         34.20549553,  34.44820224,  34.69090895,  34.93361567,\n",
       "         35.17632238,  35.41902909,  35.6617358 ,  35.90444251,\n",
       "         36.14714922,  36.38985593,  36.63256265,  36.87526936,\n",
       "         37.11797607,  37.36068278,  37.60338949,  37.8460962 ,\n",
       "         38.08880292,  38.33150963,  38.57421634,  38.81692305,\n",
       "         39.05962976,  39.30233647,  39.54504318,  39.7877499 ,\n",
       "         40.03045661,  40.27316332,  40.51587003,  40.75857674,\n",
       "         41.00128345,  41.24399017,  41.48669688,  41.72940359,\n",
       "         41.9721103 ,  42.21481701,  42.45752372,  42.70023043,\n",
       "         42.94293715,  43.18564386,  43.42835057,  43.67105728,\n",
       "         43.91376399,  44.1564707 ,  44.39917742,  44.64188413,\n",
       "         44.88459084,  45.12729755,  45.37000426,  45.61271097,\n",
       "         45.85541768,  46.0981244 ,  46.34083111,  46.58353782,\n",
       "         46.82624453,  47.06895124,  47.31165795,  47.55436467,\n",
       "         47.79707138,  48.03977809,  48.2824848 ,  48.52519151,\n",
       "         48.76789822,  49.01060493,  49.25331165,  49.49601836,\n",
       "         49.73872507,  49.98143178,  50.22413849,  50.4668452 ,\n",
       "         50.70955192,  50.95225863,  51.19496534,  51.43767205,\n",
       "         51.68037876,  51.92308547,  52.16579218,  52.4084989 ,\n",
       "         52.65120561,  52.89391232,  53.13661903,  53.37932574,  53.62203245]),\n",
       " <a list of 180 Patch objects>)"
      ]
     },
     "execution_count": 10,
     "metadata": {},
     "output_type": "execute_result"
    }
   ],
   "source": [
    "\n",
    "plt.close('all')\n",
    "plt.hist(dist_pair,bins=180)"
   ]
  },
  {
   "cell_type": "code",
   "execution_count": null,
   "id": "2101b925-c46e-4eae-b680-be61e13bdc77",
   "metadata": {},
   "outputs": [],
   "source": [
    "dic_ev['lon'], dic_ev['lat']"
   ]
  },
  {
   "cell_type": "code",
   "execution_count": null,
   "id": "3a0d1841-f436-4d49-b1e8-504c2ee462fc",
   "metadata": {},
   "outputs": [],
   "source": []
  }
 ],
 "metadata": {
  "kernelspec": {
   "display_name": "Python 3",
   "language": "python",
   "name": "python3"
  },
  "language_info": {
   "codemirror_mode": {
    "name": "ipython",
    "version": 3
   },
   "file_extension": ".py",
   "mimetype": "text/x-python",
   "name": "python",
   "nbconvert_exporter": "python",
   "pygments_lexer": "ipython3",
   "version": "3.8.8"
  }
 },
 "nbformat": 4,
 "nbformat_minor": 5
}
