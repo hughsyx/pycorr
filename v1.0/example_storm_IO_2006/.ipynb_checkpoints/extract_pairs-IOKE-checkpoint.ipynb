{
 "cells": [
  {
   "cell_type": "markdown",
   "id": "b84f90a9-95c8-41c0-a75f-b4fa4802e69b",
   "metadata": {},
   "source": [
    "# Check dataset"
   ]
  },
  {
   "cell_type": "code",
   "execution_count": 1,
   "id": "daac7455-d6bd-4350-9cc9-cb4b7fe83c61",
   "metadata": {},
   "outputs": [],
   "source": [
    "import sys,os,glob,time,copy,warnings,cProfile,shutil,matplotlib\n",
    "from IPython import display\n",
    "import h5py as h5\n",
    "import numpy as np\n",
    "import scipy.fftpack\n",
    "import scipy.signal\n",
    "import scipy.io as io\n",
    "import skimage.restoration as deconv\n",
    "from math import cos, sin, radians\n",
    "import matplotlib\n",
    "import matplotlib.pyplot as plt\n",
    "import matplotlib.pylab as pl\n",
    "from matplotlib.colors import LinearSegmentedColormap\n",
    "from matplotlib.transforms import offset_copy\n",
    "import cartopy.crs as ccrs\n",
    "from cartopy.io.img_tiles import Stamen, OSM\n",
    "import cartopy.feature as cfeature\n",
    "from obspy.geodetics.base import gps2dist_azimuth\n",
    "from obspy.geodetics import locations2degrees\n",
    "from obspy.taup import TauPyModel\n",
    "from mpl_toolkits.axes_grid1 import make_axes_locatable, axes_size\n",
    "matplotlib.rcParams['pdf.fonttype'] = 42\n",
    "\n",
    "\n",
    "from pyproj import Geod\n",
    "\n",
    "import m_pycorr.mods.dd as dd\n",
    "import m_pycorr.mods.lang as lang\n",
    "\n",
    "import m_manage_data as m_mod\n",
    "\n",
    "import ipdb\n",
    "\n",
    "%matplotlib widget"
   ]
  },
  {
   "cell_type": "code",
   "execution_count": 2,
   "id": "16527c90-d1e0-4ea0-9a2b-967bb60931b0",
   "metadata": {},
   "outputs": [],
   "source": [
    "path          = \"data_4.0hz/events/\"\n",
    "list_of_files = glob.glob(path + '/*/*.h5')\n",
    "\n",
    "lat    = []\n",
    "lon    = []\n",
    "id_sta = []\n",
    "ch     = []\n",
    "\n",
    "list_of_files.sort()\n",
    "\n",
    "for i_file in list_of_files:\n",
    "#i_file = 'data_4.0hz/events/glob_03/2014-12-09T12-00-00.000000Z_mww_6.0.h5'\n",
    "    h5f   = h5.File(i_file,'r')\n",
    "    dic   = m_mod.recursively_load_dic_from_h5(h5f, path='/_metadata/sta/')\n",
    "    dic_ev= m_mod.recursively_load_dic_from_h5(h5f, path='/_metadata/ev/')\n",
    "\n",
    "    for net_lvl in dic.keys():\n",
    "        for sta_lvl in dic[net_lvl]:\n",
    "            lat.append(dic[net_lvl][sta_lvl]['lat'][()])\n",
    "            lon.append(dic[net_lvl][sta_lvl]['lon'][()])\n",
    "            id_sta.append(net_lvl + '/' + sta_lvl)\n",
    "            isN =  str(int('/' + net_lvl + '/' + sta_lvl + '/N' in h5f))\n",
    "            isE =  str(int('/' + net_lvl + '/' + sta_lvl + '/E' in h5f))   \n",
    "            isZ =  str(int('/' + net_lvl + '/' + sta_lvl + '/Z' in h5f)) \n",
    "            ch.append( isZ + isN + isE )\n",
    "    \n",
    "    h5f.close()\n",
    "    #dd.dd(dic)"
   ]
  },
  {
   "cell_type": "code",
   "execution_count": 3,
   "id": "0f93ad1b-a0ad-45cb-b462-7d0b99bedc65",
   "metadata": {},
   "outputs": [
    {
     "data": {
      "application/vnd.jupyter.widget-view+json": {
       "model_id": "83551de079774f1d9a782070456a4a94",
       "version_major": 2,
       "version_minor": 0
      },
      "text/plain": [
       "Canvas(toolbar=Toolbar(toolitems=[('Home', 'Reset original view', 'home', 'home'), ('Back', 'Back to previous …"
      ]
     },
     "metadata": {},
     "output_type": "display_data"
    },
    {
     "data": {
      "text/plain": [
       "<matplotlib.collections.PathCollection at 0x145e35a60>"
      ]
     },
     "execution_count": 3,
     "metadata": {},
     "output_type": "execute_result"
    }
   ],
   "source": [
    "plt.close('all')\n",
    "m_mod.mmap(111,lon,lat,ch=ch,xylabel=True,ev=[dic_ev['lon'], dic_ev['lat']],res=2)\n",
    "plt.scatter(dic_ev['lon'], dic_ev['lat'], marker='*', c='g', s=500,transform=ccrs.PlateCarree(),cmap='plasma_r',alpha=0.5)"
   ]
  },
  {
   "cell_type": "code",
   "execution_count": 4,
   "id": "47d1d935-4348-4b55-8e4a-ab386224bf35",
   "metadata": {},
   "outputs": [
    {
     "data": {
      "application/vnd.jupyter.widget-view+json": {
       "model_id": "f134f57d6cd649979c478863287bf510",
       "version_major": 2,
       "version_minor": 0
      },
      "text/plain": [
       "Canvas(toolbar=Toolbar(toolitems=[('Home', 'Reset original view', 'home', 'home'), ('Back', 'Back to previous …"
      ]
     },
     "metadata": {},
     "output_type": "display_data"
    },
    {
     "data": {
      "text/plain": [
       "<matplotlib.collections.PathCollection at 0x14676aa00>"
      ]
     },
     "execution_count": 4,
     "metadata": {},
     "output_type": "execute_result"
    }
   ],
   "source": [
    "plt.close('all')\n",
    "\n",
    "vec_dist  = np.zeros([len(id_sta),1])\n",
    "vec_az    = np.zeros([len(id_sta),1])\n",
    "vec_baz   = np.zeros([len(id_sta),1])\n",
    "\n",
    "for counterA, staA in enumerate(id_sta):\n",
    "    (vec_dist[counterA],vec_az[counterA],vec_baz[counterA]) = gps2dist_azimuth(dic_ev['lat'], dic_ev['lon'], lat[counterA], lon[counterA])\n",
    "\n",
    "geoid = Geod(ellps=\"WGS84\")    \n",
    "term_lon,term_lat,term_baz = geoid.fwd(lon, lat, vec_baz+180.,vec_dist) \n",
    "\n",
    "plt.close('all')\n",
    "m_mod.mmap(111,lon,lat,ch=None,xylabel=True,res=2,proj='azi',ev=[dic_ev['lon'], dic_ev['lat']])\n",
    "plt.scatter(term_lon,term_lat, marker='o', c='gold', s=20,transform=ccrs.PlateCarree(),cmap='plasma_r',alpha=0.5)\n",
    "plt.scatter(dic_ev['lon'], dic_ev['lat'], marker='*', c='g', s=500,transform=ccrs.PlateCarree(),cmap='plasma_r',alpha=0.5)\n"
   ]
  },
  {
   "cell_type": "code",
   "execution_count": 5,
   "id": "15120b60-63a9-48a1-a38c-a938b86312ec",
   "metadata": {},
   "outputs": [],
   "source": [
    "mat_dist   = np.zeros([len(id_sta),len(id_sta)])\n",
    "bool_dist  = np.zeros([len(id_sta),len(id_sta)])\n",
    "\n",
    "for counterA, staA in enumerate(id_sta):\n",
    "    az,baz,mat_dist[:,counterA] = geoid.inv(np.tile(term_lon[counterA],np.array(lon).size), np.tile(term_lat[counterA],np.array(lon).size), lon , lat)\n",
    "    bool_dist[:,counterA] = (mat_dist[:,counterA] < 0.05*vec_dist[counterA])\n",
    "    "
   ]
  },
  {
   "cell_type": "code",
   "execution_count": 6,
   "id": "97f073f0-1ee6-4b77-861a-3c49467eff36",
   "metadata": {},
   "outputs": [
    {
     "data": {
      "application/vnd.jupyter.widget-view+json": {
       "model_id": "dd46b85d450541caa487b27b45c9acb2",
       "version_major": 2,
       "version_minor": 0
      },
      "text/plain": [
       "Canvas(toolbar=Toolbar(toolitems=[('Home', 'Reset original view', 'home', 'home'), ('Back', 'Back to previous …"
      ]
     },
     "metadata": {},
     "output_type": "display_data"
    }
   ],
   "source": [
    "plt.close('all')\n",
    "\n",
    "valid_idxA = np.where(np.sum(bool_dist,0)>0)[0]\n",
    "valid_idxB = np.where(np.sum(bool_dist,1)>0)[0]\n",
    "\n",
    "m_mod.mmap(111,np.array(lon)[valid_idxA],np.array(lat)[valid_idxA],ch=None,ev=[dic_ev['lon'], dic_ev['lat']],proj='azi',xylabel=True,res=2)\n",
    "\n",
    "\n",
    "n = 180\n",
    "col = pl.cm.inferno(np.linspace(0,1,n))\n",
    "\n",
    "xfil = open('list_xcorr_TEST.txt', 'w')\n",
    "\n",
    "dist_pair = []\n",
    "for counterA in valid_idxA:\n",
    "    for counterB in np.where(bool_dist[:,counterA])[0]:\n",
    "        xfil.write(id_sta[counterA].replace('/','.') + '_' + id_sta[counterB].replace('/','.') + '\\n')\n",
    "        dist_pair.append(geoid.line_length([lon[counterA],lon[counterB]], [lat[counterA], lat[counterB]])/1000/111.91)\n",
    "        #col[int(dist_pair[-1])]\n",
    "        plt.plot([lon[counterA],lon[counterB]], [lat[counterA], lat[counterB]], color=col[int(dist_pair[-1])], linewidth=0.5,alpha=0.25, transform=ccrs.Geodetic())\n",
    "\n",
    "plt.scatter(np.array(lon)[valid_idxB],np.array(lat)[valid_idxB], marker='o', c='darkviolet', s=20,transform=ccrs.PlateCarree(),cmap='plasma_r',alpha=0.5)\n",
    "plt.scatter(dic_ev['lon'], dic_ev['lat'], marker='*', c='g', s=500,transform=ccrs.PlateCarree(),cmap='plasma_r',alpha=0.5)\n",
    "\n",
    "xfil.close()"
   ]
  },
  {
   "cell_type": "code",
   "execution_count": 7,
   "id": "dd00c76b-2a15-4360-a605-c04b856fda47",
   "metadata": {},
   "outputs": [],
   "source": [
    "plt.savefig('map_P-PKP_paths.pdf')"
   ]
  },
  {
   "cell_type": "code",
   "execution_count": 10,
   "id": "20afc805-4290-499d-b432-ec3095bc335a",
   "metadata": {},
   "outputs": [
    {
     "data": {
      "application/vnd.jupyter.widget-view+json": {
       "model_id": "867dec324aa64af6b20afffa14bea89b",
       "version_major": 2,
       "version_minor": 0
      },
      "text/plain": [
       "Canvas(toolbar=Toolbar(toolitems=[('Home', 'Reset original view', 'home', 'home'), ('Back', 'Back to previous …"
      ]
     },
     "metadata": {},
     "output_type": "display_data"
    },
    {
     "data": {
      "text/plain": [
       "(array([   1.,    0.,    1.,    3.,    4.,   30.,    0.,    6.,    2.,\n",
       "           2.,  205.,  349.,   62.,   52.,   14.,   34.,   62.,   24.,\n",
       "           3.,    1.,   19.,   33.,    0.,    0.,   39.,  106.,   88.,\n",
       "          19.,    8.,   16.,    3.,    0.,    4.,    2.,    0.,    0.,\n",
       "           0.,    2.,   19.,    2.,    0.,    0.,    0.,   12.,   35.,\n",
       "         125.,    0.,    0.,    4.,    1.,    3.,   84.,   86.,   56.,\n",
       "         159.,   70.,    9.,    0.,    0.,    0.,    1.,    1.,    0.,\n",
       "           4.,   14.,   33.,   47.,   34.,   14.,   13.,    2.,    9.,\n",
       "          16.,   48.,   50.,   55.,   71.,   92.,   84.,   40.,   27.,\n",
       "           3.,    0.,    0.,    0.,    0.,    0.,    0.,    0.,    0.,\n",
       "           3.,    4.,    1.,    3.,    4.,   13.,    7.,   12.,   18.,\n",
       "          19.,    7.,   15.,   73.,  187.,  238.,  161.,   28.,    2.,\n",
       "           1.,    2.,    1.,    2.,    2.,    7.,    5.,   14.,   28.,\n",
       "          16.,   20.,   12.,    4.,    2.,    2.,    3.,   10.,   12.,\n",
       "          30.,  108.,   97.,   17.,   28.,   20.,   56.,  317.,  215.,\n",
       "         262.,  369.,  154.,   56.,   23.,   31.,   52.,   30.,   17.,\n",
       "          33.,   29.,   29.,   24.,   26.,   25.,   24.,   12.,    4.,\n",
       "          19.,    1.,    5.,    8.,    8.,    2.,    3.,    1.,    1.,\n",
       "          22.,    2.,    1.,    3.,    1.,    0.,    1.,    4.,    5.,\n",
       "          17.,   32.,   36.,   30.,    3.,    3.,    1.,    0.,   10.]),\n",
       " array([  11.91731675,   12.82648978,   13.73566281,   14.64483585,\n",
       "          15.55400888,   16.46318191,   17.37235494,   18.28152798,\n",
       "          19.19070101,   20.09987404,   21.00904707,   21.91822011,\n",
       "          22.82739314,   23.73656617,   24.6457392 ,   25.55491224,\n",
       "          26.46408527,   27.3732583 ,   28.28243133,   29.19160436,\n",
       "          30.1007774 ,   31.00995043,   31.91912346,   32.82829649,\n",
       "          33.73746953,   34.64664256,   35.55581559,   36.46498862,\n",
       "          37.37416166,   38.28333469,   39.19250772,   40.10168075,\n",
       "          41.01085379,   41.92002682,   42.82919985,   43.73837288,\n",
       "          44.64754592,   45.55671895,   46.46589198,   47.37506501,\n",
       "          48.28423805,   49.19341108,   50.10258411,   51.01175714,\n",
       "          51.92093017,   52.83010321,   53.73927624,   54.64844927,\n",
       "          55.5576223 ,   56.46679534,   57.37596837,   58.2851414 ,\n",
       "          59.19431443,   60.10348747,   61.0126605 ,   61.92183353,\n",
       "          62.83100656,   63.7401796 ,   64.64935263,   65.55852566,\n",
       "          66.46769869,   67.37687173,   68.28604476,   69.19521779,\n",
       "          70.10439082,   71.01356386,   71.92273689,   72.83190992,\n",
       "          73.74108295,   74.65025598,   75.55942902,   76.46860205,\n",
       "          77.37777508,   78.28694811,   79.19612115,   80.10529418,\n",
       "          81.01446721,   81.92364024,   82.83281328,   83.74198631,\n",
       "          84.65115934,   85.56033237,   86.46950541,   87.37867844,\n",
       "          88.28785147,   89.1970245 ,   90.10619754,   91.01537057,\n",
       "          91.9245436 ,   92.83371663,   93.74288967,   94.6520627 ,\n",
       "          95.56123573,   96.47040876,   97.3795818 ,   98.28875483,\n",
       "          99.19792786,  100.10710089,  101.01627392,  101.92544696,\n",
       "         102.83461999,  103.74379302,  104.65296605,  105.56213909,\n",
       "         106.47131212,  107.38048515,  108.28965818,  109.19883122,\n",
       "         110.10800425,  111.01717728,  111.92635031,  112.83552335,\n",
       "         113.74469638,  114.65386941,  115.56304244,  116.47221548,\n",
       "         117.38138851,  118.29056154,  119.19973457,  120.10890761,\n",
       "         121.01808064,  121.92725367,  122.8364267 ,  123.74559973,\n",
       "         124.65477277,  125.5639458 ,  126.47311883,  127.38229186,\n",
       "         128.2914649 ,  129.20063793,  130.10981096,  131.01898399,\n",
       "         131.92815703,  132.83733006,  133.74650309,  134.65567612,\n",
       "         135.56484916,  136.47402219,  137.38319522,  138.29236825,\n",
       "         139.20154129,  140.11071432,  141.01988735,  141.92906038,\n",
       "         142.83823342,  143.74740645,  144.65657948,  145.56575251,\n",
       "         146.47492554,  147.38409858,  148.29327161,  149.20244464,\n",
       "         150.11161767,  151.02079071,  151.92996374,  152.83913677,\n",
       "         153.7483098 ,  154.65748284,  155.56665587,  156.4758289 ,\n",
       "         157.38500193,  158.29417497,  159.203348  ,  160.11252103,\n",
       "         161.02169406,  161.9308671 ,  162.84004013,  163.74921316,\n",
       "         164.65838619,  165.56755923,  166.47673226,  167.38590529,\n",
       "         168.29507832,  169.20425135,  170.11342439,  171.02259742,\n",
       "         171.93177045,  172.84094348,  173.75011652,  174.65928955,\n",
       "         175.56846258]),\n",
       " <a list of 180 Patch objects>)"
      ]
     },
     "execution_count": 10,
     "metadata": {},
     "output_type": "execute_result"
    }
   ],
   "source": [
    "plt.close('all')\n",
    "plt.hist(dist_pair,bins=180)"
   ]
  },
  {
   "cell_type": "code",
   "execution_count": 11,
   "id": "374e88ca-cd3d-4851-a765-7597a2ba9750",
   "metadata": {},
   "outputs": [
    {
     "data": {
      "application/vnd.jupyter.widget-view+json": {
       "model_id": "ec6ccbe9ba2845a8b1c906fd56a86929",
       "version_major": 2,
       "version_minor": 0
      },
      "text/plain": [
       "Canvas(toolbar=Toolbar(toolitems=[('Home', 'Reset original view', 'home', 'home'), ('Back', 'Back to previous …"
      ]
     },
     "metadata": {},
     "output_type": "display_data"
    },
    {
     "data": {
      "text/plain": [
       "[<matplotlib.lines.Line2D at 0x14d212730>]"
      ]
     },
     "execution_count": 11,
     "metadata": {},
     "output_type": "execute_result"
    }
   ],
   "source": [
    "plt.close('all')\n",
    "\n",
    "model = TauPyModel(model=\"PREM\")\n",
    "ray_p_pcp=[]\n",
    "vect_epi_dist =  np.linspace(0,90,181)\n",
    "for dist in vect_epi_dist:\n",
    "    #print(dist)\n",
    "    arrivals = model.get_travel_times(source_depth_in_km=0,\n",
    "                                  distance_in_degree=dist,\n",
    "                                  phase_list=[\"PcP\"])\n",
    "    arr = arrivals[0]\n",
    "    ray_p_pcp.append(arr.ray_param)\n",
    "    \n",
    "    \n",
    "ray_p_pcp = np.array(ray_p_pcp)\n",
    "plt.plot(vect_epi_dist,np.array(ray_p_pcp))\n"
   ]
  },
  {
   "cell_type": "code",
   "execution_count": 12,
   "id": "83bf889b-e0fe-40fc-802e-320db6c37de4",
   "metadata": {},
   "outputs": [
    {
     "data": {
      "text/plain": [
       "20.0"
      ]
     },
     "execution_count": 12,
     "metadata": {},
     "output_type": "execute_result"
    }
   ],
   "source": [
    "plt.close('all')\n",
    "\n",
    "ray_to_find = model.get_travel_times(source_depth_in_km=0,\n",
    "                              distance_in_degree=140,\n",
    "                              phase_list=[\"PKIKP\",\"PKP\"])[0].ray_param\n",
    "\n",
    "vect_epi_dist[np.argmin(np.abs(ray_p_pcp-ray_to_find))]\n",
    "\n"
   ]
  },
  {
   "cell_type": "code",
   "execution_count": null,
   "id": "7393d0cc-bd68-4fcb-8333-db34b2b41351",
   "metadata": {},
   "outputs": [],
   "source": []
  }
 ],
 "metadata": {
  "kernelspec": {
   "display_name": "Python 3",
   "language": "python",
   "name": "python3"
  },
  "language_info": {
   "codemirror_mode": {
    "name": "ipython",
    "version": 3
   },
   "file_extension": ".py",
   "mimetype": "text/x-python",
   "name": "python",
   "nbconvert_exporter": "python",
   "pygments_lexer": "ipython3",
   "version": "3.8.8"
  }
 },
 "nbformat": 4,
 "nbformat_minor": 5
}
